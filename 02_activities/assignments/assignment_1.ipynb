{
 "cells": [
  {
   "cell_type": "markdown",
   "metadata": {},
   "source": [
    "# Coding Problems\n",
    "\n",
    "## Objective\n",
    "\n",
    "This assignment aims to demonstrate how to study a data structures or algorithms question in depth to prepare for an industry coding interview. Leetcode is a popular coding practice site that many use to practice for technical interviews. Like behavioral interviews, it's important to practice and keep your skills sharp.\n",
    "\n",
    "## Group Size\n",
    "\n",
    "Please complete this individually.\n",
    "\n",
    "## Parts:\n",
    "- Part 1: Figure out the problem you have been assigned, and understand the problem\n",
    "- Part 2: Answer the questions about your assigned problem (including solving it)\n",
    "\n",
    "## Part 1:\n",
    "\n",
    "_*You will be assigned one of three problems based of your first name. Enter your first name, in all lower case, execute the code below, and that will tell you your assigned problem. Include the output as part of your submission (do not clear the output). The problems are based-off problems from Leetcode.*_\n"
   ]
  },
  {
   "cell_type": "code",
   "execution_count": 2,
   "metadata": {},
   "outputs": [
    {
     "name": "stdout",
     "output_type": "stream",
     "text": [
      "2\n"
     ]
    }
   ],
   "source": [
    "import hashlib\n",
    "\n",
    "def hash_to_range(input_string: str) -> int:\n",
    "     hash_object = hashlib.sha256(input_string.encode())\n",
    "     hash_int = int(hash_object.hexdigest(), 16)\n",
    "     return (hash_int % 3) + 1\n",
    "input_string = \"dhvani\"\n",
    "result = hash_to_range(input_string)\n",
    "print(result)\n"
   ]
  },
  {
   "cell_type": "markdown",
   "metadata": {},
   "source": [
    "## Question One: First Duplicate in List\n",
    "**Description**  \n",
    "Given a list of integers, return the **first value that appears more than once**. If there are multiple duplicates, return the one that appears **first** in the list. If no duplicate exists, return `-1`.\n",
    "\n",
    "**Examples**\n",
    "```python\n",
    "Input: nums = [3, 1, 4, 2, 5, 1, 6]\n",
    "Output: 1\n",
    "```\n",
    "```python\n",
    "Input: nums = [7, 8, 9, 10]\n",
    "Output: -1\n",
    "```\n",
    "```python\n",
    "Input: nums = [4, 5, 6, 4, 6]\n",
    "Output: 4\n",
    "```\n",
    "\n",
    "**Question 1 Starter Code**"
   ]
  },
  {
   "cell_type": "code",
   "execution_count": 3,
   "metadata": {},
   "outputs": [],
   "source": [
    "from typing import List\n",
    "\n",
    "def first_duplicate(nums: List[int]) -> int:\n",
    "    # TODO\n",
    "    pass"
   ]
  },
  {
   "cell_type": "markdown",
   "metadata": {},
   "source": [
    "## Question Two: Valid Bracket Sequence\n",
    "**Description**  \n",
    "Given a string containing only the characters `'('`, `')'`, `'{'`, `'}'`, `'['`, and `']'`, determine if the input string is a **valid bracket sequence**.  \n",
    "A string is valid if:\n",
    "- Open brackets are closed by the same type of brackets, and\n",
    "- Open brackets are closed in the correct order.\n",
    "\n",
    "**Examples**\n",
    "```python\n",
    "Input: s = \"([]{})\"\n",
    "Output: True\n",
    "```\n",
    "```python\n",
    "Input: s = \"([)]\"\n",
    "Output: False\n",
    "```\n",
    "```python\n",
    "Input: s = \"()[]{}\"\n",
    "Output: True\n",
    "```\n",
    "```python\n",
    "Input: s = \"[{]}\"\n",
    "Output: False\n",
    "```\n",
    "\n",
    "**Question 2 Starter Code**"
   ]
  },
  {
   "cell_type": "code",
   "execution_count": 4,
   "metadata": {},
   "outputs": [],
   "source": [
    "def is_valid_brackets(s: str) -> bool:\n",
    "    # TODO\n",
    "    stack= []\n",
    "    bracket_map = {')': '(', ']': '[', '}': '{'}\n",
    "    for char in s:\n",
    "        if char in bracket_map.values():\n",
    "            stack.append(char)\n",
    "        elif char in bracket_map:\n",
    "            if not stack or stack.pop() != bracket_map[char]:\n",
    "                return False\n",
    "    return not stack\n",
    "\n",
    "\n",
    "   "
   ]
  },
  {
   "cell_type": "markdown",
   "metadata": {},
   "source": [
    "## Question Three: Move All Zeros to End\n",
    "**Description**  \n",
    "Given a list of integers, move all zeros to the end while maintaining the relative order of the non-zero elements. \n",
    "\n",
    "**Examples**\n",
    "```python\n",
    "Input: nums = [0, 1, 0, 3, 12]\n",
    "Output: [1, 3, 12, 0, 0]\n",
    "```\n",
    "```python\n",
    "Input: nums = [4, 0, 5, 0, 0, 6]\n",
    "Output: [4, 5, 6, 0, 0, 0]\n",
    "```\n"
   ]
  },
  {
   "cell_type": "code",
   "execution_count": 5,
   "metadata": {},
   "outputs": [],
   "source": [
    "from typing import List\n",
    "\n",
    "def move_zeros_to_end(nums: List[int]) -> List[int]:\n",
    "    # TODO\n",
    "    pass"
   ]
  },
  {
   "cell_type": "markdown",
   "metadata": {},
   "source": [
    "\n",
    "## Part 2:\n",
    "\n",
    "-   Paraphrase the problem in your own words\n"
   ]
  },
  {
   "cell_type": "code",
   "execution_count": 6,
   "metadata": {},
   "outputs": [],
   "source": [
    "# The Valid Bracket Sequence problem asks us to verify if a string containing only bracket characters is properly balanced and ordered. A valid bracket sequence means:Every opening bracket ( '(', '{', '[' ) must have a matching closing bracket of the same type ( ')', '}', ']' ). Brackets must close in the correct order - the most recently opened bracket must be closed first (Last-In-First-Out). You cannot close a bracket with a different type than how it was opened For example, \"({[]})\" is valid because brackets open and close in proper nested order,but \"([)]\" is invalid because the '[' opens but ')' tries to close before ']' closes."
   ]
  },
  {
   "cell_type": "markdown",
   "metadata": {},
   "source": [
    "- In this .ipynb file, there are examples that illustrate how the code should work (the examples provided above). Create 2 new examples for the question you have been assigned, that demonstrate you understand the problem. For question 1 and 2, you don't need to create the tree demonstration, just the input and output.\n"
   ]
  },
  {
   "cell_type": "code",
   "execution_count": 7,
   "metadata": {},
   "outputs": [],
   "source": [
    "# Example 1: Multiple nested brackets\n",
    "# Input: s = \"{[()]}\"\n",
    "# Output: True\n",
    "# Explanation: The brackets open in the order {, [, ( and close in reverse order ), ], } which follows proper nesting rules.\n",
    "\n",
    "# Example 2: Correct pairs but wrong order\n",
    "# Input: s = \"[(])\"\n",
    "# Output: False\n",
    "# Explanation: The '[' opens, then '(' opens, but then ']' tries to close before '(' is closed. This violates the Last-In-First-Out rule - '(' should close before '['.\n",
    "\n",
    "# Example 3: All opening brackets\n",
    "# Input: s = \"(((\"\n",
    "# Output: False\n",
    "# Explanation: There are no closing brackets to match the opening brackets, so the sequence is unbalanced.\n"
   ]
  },
  {
   "cell_type": "markdown",
   "metadata": {},
   "source": [
    "\n",
    "-   Code the solution to your assigned problem in Python (code chunk). Note: each problem can be solved more simply if you use an abstract data type that is suitable for that problem. Using that try to find the best time and space complexity solution!\n"
   ]
  },
  {
   "cell_type": "code",
   "execution_count": 8,
   "metadata": {},
   "outputs": [
    {
     "name": "stdout",
     "output_type": "stream",
     "text": [
      "True\n",
      "True\n",
      "False\n",
      "False\n",
      "True\n",
      "False\n"
     ]
    }
   ],
   "source": [
    "def is_valid_brackets(s: str) -> bool:\n",
    "    # TODO\n",
    "    stack= []\n",
    "    bracket_map = {')': '(', ']': '[', '}': '{'}\n",
    "    for char in s:\n",
    "        if char in bracket_map.values():\n",
    "            stack.append(char)\n",
    "        elif char in bracket_map:\n",
    "            if not stack or stack.pop() != bracket_map[char]:\n",
    "                return False\n",
    "    return not stack\n",
    "\n",
    "# Output for valid examples\n",
    "print(is_valid_brackets(\"([{}])\"))  \n",
    "print(is_valid_brackets(\"()[]{}\"))   \n",
    "\n",
    "# Output for invalid examples\n",
    "print(is_valid_brackets(\"([)]\"))    \n",
    "print(is_valid_brackets(\"[{]}\"))    \n",
    "\n",
    "# Output for edge cases\n",
    "print(is_valid_brackets(\"\"))      \n",
    "print(is_valid_brackets(\"(((\"))  "
   ]
  },
  {
   "cell_type": "markdown",
   "metadata": {},
   "source": [
    "\n",
    "-   Explain why your solution works\n"
   ]
  },
  {
   "cell_type": "code",
   "execution_count": 9,
   "metadata": {},
   "outputs": [],
   "source": [
    "# My solution uses a stack to keep track of opening brackets. When it encounters an opening bracket ('(', '{', or '['), it push it onto the stack. When it sees a closing bracket (')', '}', or ']'), it check if it matches the most recent opening bracket at the top of the stack. If it doesn't match or the stack is empty, it will return False immediately. If it reach the end of the string and the stack is empty, that means every opening bracket had a matching closing bracket in the correct order, so it will return True. This method works well because a stack naturally handles nested and ordered structures through its Last-In-First-Out (LIFO) behavior. The most recently opened bracket must be closed first, which is exactly how stacks operate. The bracket_map dictionary allows me to quickly check if a closing bracket matches its corresponding opening bracket in O(1) time."
   ]
  },
  {
   "cell_type": "markdown",
   "metadata": {},
   "source": [
    "\n",
    "-   Explain the problem’s time and space complexity\n"
   ]
  },
  {
   "cell_type": "code",
   "execution_count": 10,
   "metadata": {},
   "outputs": [],
   "source": [
    "# TIME COMPLEXITY: O(n) - Linear Time. We iterate through the string exactly once with a single for loop,where n = length of the input string. Inside the loop, all operations are O(1) constant time: Dictionary lookup: `char in bracket_map` is O(1). Stack operations: `stack.append()` is O(1), `stack.pop()` is O(1). List indexing: `stack[-1]` is O(1). Total: One loop * O(1) operations = O(n) linear time. As the input size doubles, the runtime approximately doubles. For example: Input size 100 → ~100 operations. Input size 1000 → ~1000 operations (10x increase). Input size 10000 → ~10000 operations (100x increase from 100)\n",
    "\n",
    "#SPACE COMPLEXITY: O(n) - Linear Space. The main space usage comes from the stack. Worst case: Input like \"(((((\" (all opening brackets) means stack contains n elements. Best case: Input like \"()()()\" (immediately matched pairs) means stack never exceeds size 1, but we still consider worst case. The bracket_map dictionary uses O(1) constant space (only 3 key-value pairs regardless of input size). Total space complexity is dominated by the stack O(n). In Big-O analysis, we focus on the worst-case scenario and how space grows with input size."
   ]
  },
  {
   "cell_type": "markdown",
   "metadata": {},
   "source": [
    "\n",
    "-   Explain the thinking to an alternative solution (no coding required, but a classmate reading this should be able to code it up based off your text)\n"
   ]
  },
  {
   "cell_type": "code",
   "execution_count": 11,
   "metadata": {},
   "outputs": [],
   "source": [
    "# Alternative Solution: String Replacement Method- Instead of using a stack, we can repeatedly remove matching adjacent bracket pairs from the string until no more removals are possible. For example Algorithm:1. Start with the original input string. 2. Use a while loop that continues as long as the string is changing. 3. In each iteration of the loop: Use string replacement to remove all instances of \"()\" → replace with \"\", Use string replacement to remove all instances of \"{}\" → replace with \"\" and Use string replacement to remove all instances of \"[]\" → replace with \"\". 4. After the loop terminates (string stops changing): If the string is empty: return True (all brackets were matched) and If the string still has characters: return False (invalid sequence).\n",
    "\n",
    "# Every valid bracket sequence must contain at least one adjacent matching pair. When we remove these pairs, we expose new adjacent pairs that were previously separated. If the sequence is valid, we can continue removing pairs until nothing remains. Example walkthrough with \"{[()]}\":\n",
    "#Iteration 1: Find \"()\" and remove it → \"{[]}\"\n",
    "#Iteration 2: Find \"[]\" and remove it → \"{}\"\n",
    "#Iteration 3: Find \"{}\" and remove it → \"\"\n",
    "#String is empty → return True\n",
    "\n",
    "# This method looks Conceptually simpler i.e no need to understand stack data structure and it is easier to explain to non-programmers.Also has more intuitive visualization. On the other hand, this could be significantly slower: O(n²) vs O(n) due to time complexity. Might create many intermediate string objects. This method is not suitable for large inputs or performance-critical applications. In practice, for n=10,000 this could be 100x slower than the stack solution.\n",
    "\n",
    "#Therefore, demonstrating why choosing the right data structure matters. Here, the stack-based solution is both simpler to implement and more efficient.\n"
   ]
  },
  {
   "cell_type": "markdown",
   "metadata": {},
   "source": [
    "## Evaluation Criteria\n",
    "\n",
    "-   Problem is accurately stated\n",
    "\n",
    "-   Two examples are correct and easily understandable\n",
    "\n",
    "-   Correctness, time, and space complexity of the coding solution\n",
    "\n",
    "-   Clarity in explaining why the solution works, its time and space complexity\n",
    "\n",
    "-   Clarity in the proposal to the alternative solution"
   ]
  },
  {
   "cell_type": "markdown",
   "metadata": {},
   "source": [
    "## Submission Information\n",
    "\n",
    "🚨 **Please review our [Assignment Submission Guide](https://github.com/UofT-DSI/onboarding/blob/main/onboarding_documents/submissions.md)** 🚨 for detailed instructions on how to format, branch, and submit your work. Following these guidelines is crucial for your submissions to be evaluated correctly.\n",
    "\n",
    "### Submission Parameters:\n",
    "* Submission Due Date: `HH:MM AM/PM - DD/MM/YYYY`\n",
    "* The branch name for your repo should be: `assignment-1`\n",
    "* What to submit for this assignment:\n",
    "    * This Jupyter Notebook (assignment_1.ipynb) should be populated and should be the only change in your pull request.\n",
    "* What the pull request link should look like for this assignment: `https://github.com/<your_github_username>/algorithms_and_data_structures/pull/<pr_id>`\n",
    "    * Open a private window in your browser. Copy and paste the link to your pull request into the address bar. Make sure you can see your pull request properly. This helps the technical facilitator and learning support staff review your submission easily.\n",
    "\n",
    "Checklist:\n",
    "- [ ] Create a branch called `assignment-1`.\n",
    "- [ ] Ensure that the repository is public.\n",
    "- [ ] Review [the PR description guidelines](https://github.com/UofT-DSI/onboarding/blob/main/onboarding_documents/submissions.md#guidelines-for-pull-request-descriptions) and adhere to them.\n",
    "- [ ] Verify that the link is accessible in a private browser window.\n",
    "\n",
    "If you encounter any difficulties or have questions, please don't hesitate to reach out to our team via our Slack at `#cohort-3-help`. Our Technical Facilitators and Learning Support staff are here to help you navigate any challenges."
   ]
  }
 ],
 "metadata": {
  "kernelspec": {
   "display_name": "dsi_participant",
   "language": "python",
   "name": "python3"
  },
  "language_info": {
   "codemirror_mode": {
    "name": "ipython",
    "version": 3
   },
   "file_extension": ".py",
   "mimetype": "text/x-python",
   "name": "python",
   "nbconvert_exporter": "python",
   "pygments_lexer": "ipython3",
   "version": "3.13.5"
  }
 },
 "nbformat": 4,
 "nbformat_minor": 4
}
